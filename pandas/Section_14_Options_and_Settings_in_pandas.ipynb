{
 "cells": [
  {
   "cell_type": "markdown",
   "metadata": {},
   "source": [
    "The pandas option system can be used to customize behaviours such as the display options that we see in our Jupyter notebook. There are two ways to change settings in pandas; with the dot syntax or with specific methods. "
   ]
  },
  {
   "cell_type": "code",
   "execution_count": 2,
   "metadata": {},
   "outputs": [],
   "source": [
    "import pandas as pd\n",
    "import numpy as np"
   ]
  },
  {
   "cell_type": "code",
   "execution_count": 4,
   "metadata": {},
   "outputs": [
    {
     "data": {
      "text/plain": [
       "'1.19.2'"
      ]
     },
     "execution_count": 4,
     "metadata": {},
     "output_type": "execute_result"
    }
   ],
   "source": [
    "pd.__version__\n",
    "np.__version__"
   ]
  },
  {
   "cell_type": "markdown",
   "metadata": {},
   "source": [
    "Changing Options with Attributes ad Dot Syntax"
   ]
  },
  {
   "cell_type": "code",
   "execution_count": 17,
   "metadata": {},
   "outputs": [
    {
     "data": {
      "text/html": [
       "<div>\n",
       "<style scoped>\n",
       "    .dataframe tbody tr th:only-of-type {\n",
       "        vertical-align: middle;\n",
       "    }\n",
       "\n",
       "    .dataframe tbody tr th {\n",
       "        vertical-align: top;\n",
       "    }\n",
       "\n",
       "    .dataframe thead th {\n",
       "        text-align: right;\n",
       "    }\n",
       "</style>\n",
       "<table border=\"1\" class=\"dataframe\">\n",
       "  <thead>\n",
       "    <tr style=\"text-align: right;\">\n",
       "      <th></th>\n",
       "      <th>0</th>\n",
       "      <th>1</th>\n",
       "      <th>2</th>\n",
       "      <th>3</th>\n",
       "      <th>4</th>\n",
       "      <th>5</th>\n",
       "      <th>6</th>\n",
       "      <th>7</th>\n",
       "      <th>8</th>\n",
       "      <th>9</th>\n",
       "      <th>...</th>\n",
       "      <th>40</th>\n",
       "      <th>41</th>\n",
       "      <th>42</th>\n",
       "      <th>43</th>\n",
       "      <th>44</th>\n",
       "      <th>45</th>\n",
       "      <th>46</th>\n",
       "      <th>47</th>\n",
       "      <th>48</th>\n",
       "      <th>49</th>\n",
       "    </tr>\n",
       "  </thead>\n",
       "  <tbody>\n",
       "    <tr>\n",
       "      <th>998</th>\n",
       "      <td>15</td>\n",
       "      <td>70</td>\n",
       "      <td>34</td>\n",
       "      <td>92</td>\n",
       "      <td>4</td>\n",
       "      <td>53</td>\n",
       "      <td>77</td>\n",
       "      <td>26</td>\n",
       "      <td>81</td>\n",
       "      <td>61</td>\n",
       "      <td>...</td>\n",
       "      <td>57</td>\n",
       "      <td>11</td>\n",
       "      <td>5</td>\n",
       "      <td>85</td>\n",
       "      <td>83</td>\n",
       "      <td>53</td>\n",
       "      <td>4</td>\n",
       "      <td>75</td>\n",
       "      <td>22</td>\n",
       "      <td>73</td>\n",
       "    </tr>\n",
       "    <tr>\n",
       "      <th>999</th>\n",
       "      <td>89</td>\n",
       "      <td>18</td>\n",
       "      <td>89</td>\n",
       "      <td>21</td>\n",
       "      <td>64</td>\n",
       "      <td>36</td>\n",
       "      <td>54</td>\n",
       "      <td>76</td>\n",
       "      <td>19</td>\n",
       "      <td>81</td>\n",
       "      <td>...</td>\n",
       "      <td>81</td>\n",
       "      <td>7</td>\n",
       "      <td>89</td>\n",
       "      <td>66</td>\n",
       "      <td>40</td>\n",
       "      <td>76</td>\n",
       "      <td>44</td>\n",
       "      <td>30</td>\n",
       "      <td>7</td>\n",
       "      <td>76</td>\n",
       "    </tr>\n",
       "  </tbody>\n",
       "</table>\n",
       "<p>2 rows × 50 columns</p>\n",
       "</div>"
      ],
      "text/plain": [
       "     0   1   2   3   4   5   6   7   8   9   ...  40  41  42  43  44  45  46  \\\n",
       "998  15  70  34  92   4  53  77  26  81  61  ...  57  11   5  85  83  53   4   \n",
       "999  89  18  89  21  64  36  54  76  19  81  ...  81   7  89  66  40  76  44   \n",
       "\n",
       "     47  48  49  \n",
       "998  75  22  73  \n",
       "999  30   7  76  \n",
       "\n",
       "[2 rows x 50 columns]"
      ]
     },
     "execution_count": 17,
     "metadata": {},
     "output_type": "execute_result"
    }
   ],
   "source": [
    "# Generate a random array (i.e. an array of random values) using numpy, then feed that to our DataFrame constructor method to \n",
    "# create a pandas DataFrame. \n",
    "\n",
    "data = np.random.randint(0, 100, [1000, 50]) \n",
    "data\n",
    "\n",
    "# Within the np library, we reference the random module, and within that module, there is a collection of methods. \n",
    "# randint(low, high, size) : generates random integers according to the lower and upper bound and also the array size. \n",
    "# Note: A new dataset will be generated every time the code is run. \n",
    "# data.shape\n",
    "\n",
    "df = pd.DataFrame(data)\n",
    "df.tail(2)"
   ]
  },
  {
   "cell_type": "code",
   "execution_count": 21,
   "metadata": {},
   "outputs": [
    {
     "data": {
      "text/plain": [
       "17"
      ]
     },
     "execution_count": 21,
     "metadata": {},
     "output_type": "execute_result"
    }
   ],
   "source": [
    "pd.options.display.max_rows \n",
    "# Tells us maximum number of rows of the DataFrame shown in the display. \n",
    "\n",
    "pd.options.display.max_rows = 17\n",
    "# Sets the maximum number of rows to be displayed as 17. "
   ]
  },
  {
   "cell_type": "code",
   "execution_count": 26,
   "metadata": {},
   "outputs": [
    {
     "data": {
      "text/html": [
       "<div>\n",
       "<style scoped>\n",
       "    .dataframe tbody tr th:only-of-type {\n",
       "        vertical-align: middle;\n",
       "    }\n",
       "\n",
       "    .dataframe tbody tr th {\n",
       "        vertical-align: top;\n",
       "    }\n",
       "\n",
       "    .dataframe thead th {\n",
       "        text-align: right;\n",
       "    }\n",
       "</style>\n",
       "<table border=\"1\" class=\"dataframe\">\n",
       "  <thead>\n",
       "    <tr style=\"text-align: right;\">\n",
       "      <th></th>\n",
       "      <th>0</th>\n",
       "      <th>1</th>\n",
       "      <th>...</th>\n",
       "      <th>48</th>\n",
       "      <th>49</th>\n",
       "    </tr>\n",
       "  </thead>\n",
       "  <tbody>\n",
       "    <tr>\n",
       "      <th>0</th>\n",
       "      <td>94</td>\n",
       "      <td>19</td>\n",
       "      <td>...</td>\n",
       "      <td>36</td>\n",
       "      <td>33</td>\n",
       "    </tr>\n",
       "    <tr>\n",
       "      <th>1</th>\n",
       "      <td>62</td>\n",
       "      <td>85</td>\n",
       "      <td>...</td>\n",
       "      <td>25</td>\n",
       "      <td>76</td>\n",
       "    </tr>\n",
       "    <tr>\n",
       "      <th>...</th>\n",
       "      <td>...</td>\n",
       "      <td>...</td>\n",
       "      <td>...</td>\n",
       "      <td>...</td>\n",
       "      <td>...</td>\n",
       "    </tr>\n",
       "    <tr>\n",
       "      <th>998</th>\n",
       "      <td>15</td>\n",
       "      <td>70</td>\n",
       "      <td>...</td>\n",
       "      <td>22</td>\n",
       "      <td>73</td>\n",
       "    </tr>\n",
       "    <tr>\n",
       "      <th>999</th>\n",
       "      <td>89</td>\n",
       "      <td>18</td>\n",
       "      <td>...</td>\n",
       "      <td>7</td>\n",
       "      <td>76</td>\n",
       "    </tr>\n",
       "  </tbody>\n",
       "</table>\n",
       "<p>1000 rows × 50 columns</p>\n",
       "</div>"
      ],
      "text/plain": [
       "     0   1   ...  48  49\n",
       "0    94  19  ...  36  33\n",
       "1    62  85  ...  25  76\n",
       "..   ..  ..  ...  ..  ..\n",
       "998  15  70  ...  22  73\n",
       "999  89  18  ...   7  76\n",
       "\n",
       "[1000 rows x 50 columns]"
      ]
     },
     "execution_count": 26,
     "metadata": {},
     "output_type": "execute_result"
    }
   ],
   "source": [
    "pd.options.display.max_columns\n",
    "# Tells us maximum number of  columns of the DataFrame shown in the display. \n",
    "\n",
    "pd.options.display.max_columns = 5\n",
    "# Sets the maximum number of  columns to be displayed as 5.\n",
    "\n",
    "df"
   ]
  },
  {
   "cell_type": "markdown",
   "metadata": {},
   "source": [
    "Changing pandas Options with Methods\n",
    "\n",
    "In this lesson, we explore alternate syntax to change pandas options. \n",
    "\n",
    "- get_option()\n",
    "- set_option() \n",
    "- reset_option()\n",
    "- describe_option()"
   ]
  },
  {
   "cell_type": "code",
   "execution_count": 27,
   "metadata": {},
   "outputs": [
    {
     "data": {
      "text/html": [
       "<div>\n",
       "<style scoped>\n",
       "    .dataframe tbody tr th:only-of-type {\n",
       "        vertical-align: middle;\n",
       "    }\n",
       "\n",
       "    .dataframe tbody tr th {\n",
       "        vertical-align: top;\n",
       "    }\n",
       "\n",
       "    .dataframe thead th {\n",
       "        text-align: right;\n",
       "    }\n",
       "</style>\n",
       "<table border=\"1\" class=\"dataframe\">\n",
       "  <thead>\n",
       "    <tr style=\"text-align: right;\">\n",
       "      <th></th>\n",
       "      <th>0</th>\n",
       "      <th>1</th>\n",
       "      <th>...</th>\n",
       "      <th>48</th>\n",
       "      <th>49</th>\n",
       "    </tr>\n",
       "  </thead>\n",
       "  <tbody>\n",
       "    <tr>\n",
       "      <th>998</th>\n",
       "      <td>92</td>\n",
       "      <td>96</td>\n",
       "      <td>...</td>\n",
       "      <td>27</td>\n",
       "      <td>54</td>\n",
       "    </tr>\n",
       "    <tr>\n",
       "      <th>999</th>\n",
       "      <td>42</td>\n",
       "      <td>39</td>\n",
       "      <td>...</td>\n",
       "      <td>22</td>\n",
       "      <td>98</td>\n",
       "    </tr>\n",
       "  </tbody>\n",
       "</table>\n",
       "<p>2 rows × 50 columns</p>\n",
       "</div>"
      ],
      "text/plain": [
       "     0   1   ...  48  49\n",
       "998  92  96  ...  27  54\n",
       "999  42  39  ...  22  98\n",
       "\n",
       "[2 rows x 50 columns]"
      ]
     },
     "execution_count": 27,
     "metadata": {},
     "output_type": "execute_result"
    }
   ],
   "source": [
    "data = np.random.randint(0, 100, [1000, 50])\n",
    "df = pd.DataFrame(data)\n",
    "df.tail(2)"
   ]
  },
  {
   "cell_type": "code",
   "execution_count": 29,
   "metadata": {},
   "outputs": [
    {
     "data": {
      "text/plain": [
       "5"
      ]
     },
     "execution_count": 29,
     "metadata": {},
     "output_type": "execute_result"
    }
   ],
   "source": [
    "# get_option(\"option_name\") : the single argument is the options that you want to access. \n",
    "\n",
    "pd.get_option(\"max_rows\") # checks the option settings for max_rows. \n",
    "# This is equivalent to --> pd.options.display.max_rows\n",
    "# They work hand in hand with each other, it changes and displays the same settings. \n",
    "\n",
    "pd.get_option(\"max_columns\") # checkts the option settings for max_columns. \n",
    "# This is equivalent to --> pd.options.display.max_columns"
   ]
  },
  {
   "cell_type": "code",
   "execution_count": 30,
   "metadata": {},
   "outputs": [],
   "source": [
    "# set_option(\"option_name\", value): allows us to modify the option settings. \n",
    "# \"option_name\": input string of the name of the option you want to modify. \n",
    "# value: provide value you want to set the option to. \n",
    "\n",
    "pd.set_option(\"max_rows\", 10) # set the max rows to value of 10. \n",
    "\n",
    "# This is the same as --> pd.options.display.max_columns = 10"
   ]
  },
  {
   "cell_type": "code",
   "execution_count": 39,
   "metadata": {},
   "outputs": [
    {
     "data": {
      "text/plain": [
       "5"
      ]
     },
     "execution_count": 39,
     "metadata": {},
     "output_type": "execute_result"
    }
   ],
   "source": [
    "# The advantage of get_option() and set_option() is that they are built to utilize regular expressions. This means that they try to \n",
    "# recognize expressions even if they are not entirely correct. \n",
    "\n",
    "pd.get_option(\"max_columns\")\n",
    "pd.get_option(\"max_COLUMN\")\n",
    "# These expressions will have the same result. "
   ]
  },
  {
   "cell_type": "code",
   "execution_count": 41,
   "metadata": {},
   "outputs": [
    {
     "data": {
      "text/plain": [
       "20"
      ]
     },
     "execution_count": 41,
     "metadata": {},
     "output_type": "execute_result"
    }
   ],
   "source": [
    "# reset_option(\"option_name\"): resets the option to it's default settings. \n",
    "# \"option_name\": name of the option you want to reset to it's default. \n",
    "\n",
    "pd.reset_option(\"max_columns\") # resets max_columns to its default setting which is 20. \n",
    "pd.get_option(\"max_columns\")"
   ]
  },
  {
   "cell_type": "code",
   "execution_count": 44,
   "metadata": {},
   "outputs": [
    {
     "name": "stdout",
     "output_type": "stream",
     "text": [
      "display.max_rows : int\n",
      "    If max_rows is exceeded, switch to truncate view. Depending on\n",
      "    `large_repr`, objects are either centrally truncated or printed as\n",
      "    a summary view. 'None' value means unlimited.\n",
      "\n",
      "    In case python/IPython is running in a terminal and `large_repr`\n",
      "    equals 'truncate' this can be set to 0 and pandas will auto-detect\n",
      "    the height of the terminal and print a truncated object which fits\n",
      "    the screen height. The IPython notebook, IPython qtconsole, or\n",
      "    IDLE do not run in a terminal and hence it is not possible to do\n",
      "    correct auto-detection.\n",
      "    [default: 60] [currently: 10]\n"
     ]
    }
   ],
   "source": [
    "# describe_option(\"optiom_name\"): describes briefly what the option does in the context of pandas. \n",
    "\n",
    "pd.describe_option(\"max_rows\")\n",
    "# Returns a brief description and some details about the max_rows option. Also returns the default and current value for this option. "
   ]
  },
  {
   "cell_type": "markdown",
   "metadata": {},
   "source": [
    "The precision Option\n",
    "\n",
    "Alters the number of digits that appears after the decimal in the floating point number. This option does not change the number, but it hides the complexity by framing it as a simpler floating point number and only alters what is displayed. "
   ]
  },
  {
   "cell_type": "code",
   "execution_count": 52,
   "metadata": {},
   "outputs": [
    {
     "data": {
      "text/html": [
       "<div>\n",
       "<style scoped>\n",
       "    .dataframe tbody tr th:only-of-type {\n",
       "        vertical-align: middle;\n",
       "    }\n",
       "\n",
       "    .dataframe tbody tr th {\n",
       "        vertical-align: top;\n",
       "    }\n",
       "\n",
       "    .dataframe thead th {\n",
       "        text-align: right;\n",
       "    }\n",
       "</style>\n",
       "<table border=\"1\" class=\"dataframe\">\n",
       "  <thead>\n",
       "    <tr style=\"text-align: right;\">\n",
       "      <th></th>\n",
       "      <th>0</th>\n",
       "      <th>1</th>\n",
       "      <th>2</th>\n",
       "      <th>3</th>\n",
       "      <th>4</th>\n",
       "    </tr>\n",
       "  </thead>\n",
       "  <tbody>\n",
       "    <tr>\n",
       "      <th>0</th>\n",
       "      <td>0.828613</td>\n",
       "      <td>-0.198043</td>\n",
       "      <td>-0.590951</td>\n",
       "      <td>-1.032256</td>\n",
       "      <td>0.900187</td>\n",
       "    </tr>\n",
       "    <tr>\n",
       "      <th>1</th>\n",
       "      <td>0.532599</td>\n",
       "      <td>1.901095</td>\n",
       "      <td>-0.048217</td>\n",
       "      <td>-1.022224</td>\n",
       "      <td>-1.288187</td>\n",
       "    </tr>\n",
       "    <tr>\n",
       "      <th>2</th>\n",
       "      <td>-1.088468</td>\n",
       "      <td>0.218194</td>\n",
       "      <td>1.110845</td>\n",
       "      <td>0.825694</td>\n",
       "      <td>0.167637</td>\n",
       "    </tr>\n",
       "    <tr>\n",
       "      <th>3</th>\n",
       "      <td>0.014677</td>\n",
       "      <td>0.578873</td>\n",
       "      <td>1.581752</td>\n",
       "      <td>-0.676891</td>\n",
       "      <td>-0.733021</td>\n",
       "    </tr>\n",
       "    <tr>\n",
       "      <th>4</th>\n",
       "      <td>0.538106</td>\n",
       "      <td>0.332411</td>\n",
       "      <td>-0.122080</td>\n",
       "      <td>0.177585</td>\n",
       "      <td>-1.718543</td>\n",
       "    </tr>\n",
       "  </tbody>\n",
       "</table>\n",
       "</div>"
      ],
      "text/plain": [
       "          0         1         2         3         4\n",
       "0  0.828613 -0.198043 -0.590951 -1.032256  0.900187\n",
       "1  0.532599  1.901095 -0.048217 -1.022224 -1.288187\n",
       "2 -1.088468  0.218194  1.110845  0.825694  0.167637\n",
       "3  0.014677  0.578873  1.581752 -0.676891 -0.733021\n",
       "4  0.538106  0.332411 -0.122080  0.177585 -1.718543"
      ]
     },
     "execution_count": 52,
     "metadata": {},
     "output_type": "execute_result"
    }
   ],
   "source": [
    "df = pd.DataFrame(np.random.randn(5, 5))\n",
    "df\n",
    "\n",
    "# randn(d0, d1, ..., dn): generates floating points from the normal distribution. The argumens are the values for the correspinding\n",
    "# dimensions. If no value is provided, then a single floating point number is produced. \n",
    "\n",
    "# First we created a 5x5 array of floating point numbers, then we converted it to a DataFrame. "
   ]
  },
  {
   "cell_type": "code",
   "execution_count": 57,
   "metadata": {},
   "outputs": [
    {
     "data": {
      "text/html": [
       "<div>\n",
       "<style scoped>\n",
       "    .dataframe tbody tr th:only-of-type {\n",
       "        vertical-align: middle;\n",
       "    }\n",
       "\n",
       "    .dataframe tbody tr th {\n",
       "        vertical-align: top;\n",
       "    }\n",
       "\n",
       "    .dataframe thead th {\n",
       "        text-align: right;\n",
       "    }\n",
       "</style>\n",
       "<table border=\"1\" class=\"dataframe\">\n",
       "  <thead>\n",
       "    <tr style=\"text-align: right;\">\n",
       "      <th></th>\n",
       "      <th>0</th>\n",
       "      <th>1</th>\n",
       "      <th>2</th>\n",
       "      <th>3</th>\n",
       "      <th>4</th>\n",
       "    </tr>\n",
       "  </thead>\n",
       "  <tbody>\n",
       "    <tr>\n",
       "      <th>0</th>\n",
       "      <td>0.83</td>\n",
       "      <td>-0.20</td>\n",
       "      <td>-0.59</td>\n",
       "      <td>-1.03</td>\n",
       "      <td>0.90</td>\n",
       "    </tr>\n",
       "    <tr>\n",
       "      <th>1</th>\n",
       "      <td>0.53</td>\n",
       "      <td>1.90</td>\n",
       "      <td>-0.05</td>\n",
       "      <td>-1.02</td>\n",
       "      <td>-1.29</td>\n",
       "    </tr>\n",
       "    <tr>\n",
       "      <th>2</th>\n",
       "      <td>-1.09</td>\n",
       "      <td>0.22</td>\n",
       "      <td>1.11</td>\n",
       "      <td>0.83</td>\n",
       "      <td>0.17</td>\n",
       "    </tr>\n",
       "    <tr>\n",
       "      <th>3</th>\n",
       "      <td>0.01</td>\n",
       "      <td>0.58</td>\n",
       "      <td>1.58</td>\n",
       "      <td>-0.68</td>\n",
       "      <td>-0.73</td>\n",
       "    </tr>\n",
       "    <tr>\n",
       "      <th>4</th>\n",
       "      <td>0.54</td>\n",
       "      <td>0.33</td>\n",
       "      <td>-0.12</td>\n",
       "      <td>0.18</td>\n",
       "      <td>-1.72</td>\n",
       "    </tr>\n",
       "  </tbody>\n",
       "</table>\n",
       "</div>"
      ],
      "text/plain": [
       "      0     1     2     3     4\n",
       "0  0.83 -0.20 -0.59 -1.03  0.90\n",
       "1  0.53  1.90 -0.05 -1.02 -1.29\n",
       "2 -1.09  0.22  1.11  0.83  0.17\n",
       "3  0.01  0.58  1.58 -0.68 -0.73\n",
       "4  0.54  0.33 -0.12  0.18 -1.72"
      ]
     },
     "execution_count": 57,
     "metadata": {},
     "output_type": "execute_result"
    }
   ],
   "source": [
    "# By default, pandas shows us the floating point numbers to 6 d.p. \n",
    "# We can change the number of d.p. it shows up as without modifying the actual number in any way. For example, when we export. \n",
    "# the compexity of the floating point numbers will be preserved to the original number. Great way to provide a simpler temporary\n",
    "# view of the data. \n",
    "\n",
    "pd.get_option(\"precision\") # returns the number of d.p. of the floating point numbers currently.\n",
    "pd.set_option(\"precision\", 2) # Rounds the floating point number to 2 d.p. \n",
    "\n",
    "df"
   ]
  },
  {
   "cell_type": "code",
   "execution_count": 59,
   "metadata": {},
   "outputs": [
    {
     "data": {
      "text/plain": [
       "6"
      ]
     },
     "execution_count": 59,
     "metadata": {},
     "output_type": "execute_result"
    }
   ],
   "source": [
    "pd.reset_option(\"precision\")\n",
    "pd.get_option(\"precision\")\n",
    "\n",
    "# The original number has been preserved. "
   ]
  }
 ],
 "metadata": {
  "kernelspec": {
   "display_name": "Python 3",
   "language": "python",
   "name": "python3"
  },
  "language_info": {
   "codemirror_mode": {
    "name": "ipython",
    "version": 3
   },
   "file_extension": ".py",
   "mimetype": "text/x-python",
   "name": "python",
   "nbconvert_exporter": "python",
   "pygments_lexer": "ipython3",
   "version": "3.8.5"
  }
 },
 "nbformat": 4,
 "nbformat_minor": 4
}
